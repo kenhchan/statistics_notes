{
 "cells": [
  {
   "cell_type": "markdown",
   "metadata": {
    "collapsed": true
   },
   "source": [
    "# Marginal and conditional densities of the multivariate normal\n"
   ]
  },
  {
   "cell_type": "markdown",
   "metadata": {},
   "source": [
    "## Block matrix inversion"
   ]
  },
  {
   "cell_type": "markdown",
   "metadata": {},
   "source": [
    "The inverse of a $2\\times 2$ block matrix is given by\n",
    "\\begin{eqnarray*}\n",
    "    \\left(\\begin{array}{cc}\n",
    "      A & B\\\\\n",
    "      C & D\n",
    "    \\end{array}\\right)^{- 1} & = & \\left(\\begin{array}{cc}\n",
    "      X^{- 1} & - X^{- 1} B D^{- 1}\\\\\n",
    "      - D^{- 1} C X^{- 1} & D^{- 1} + D^{- 1} C X^{- 1} B D^{- 1}\n",
    "    \\end{array}\\right)\\\\\n",
    "    & = & \\left(\\begin{array}{cc}\n",
    "      A^{- 1} + A^{- 1} B Y^{- 1} C A^{- 1} & - A^{- 1} B Y^{- 1}\\\\\n",
    "      - Y^{- 1} C A^{- 1} & Y^{- 1}\n",
    "    \\end{array}\\right)\n",
    "  \\end{eqnarray*}\n",
    "  whenever the inverses appearing above are defined. Here\n",
    "  \\begin{eqnarray*}\n",
    "    X & = & A - B D^{- 1} C\\\\\n",
    "    Y & = & D - C A^{- 1} B\n",
    "  \\end{eqnarray*}\n",
    "  Consequently, we get Woodbury's inversion formula\n",
    "  \\begin{eqnarray*}\n",
    "    (A - B D^{- 1} C)^{- 1} & = & A^{- 1} + A^{- 1} B (D - C A^{- 1} B)^{- 1}\n",
    "    C A^{- 1} .\n",
    "  \\end{eqnarray*}\n"
   ]
  },
  {
   "cell_type": "markdown",
   "metadata": {},
   "source": [
    "### Proof\n"
   ]
  },
  {
   "cell_type": "markdown",
   "metadata": {},
   "source": [
    "  The block inversion formula follows from block Gaussian elimination via\n",
    "  block elementary matrices. Observe that the following product\n",
    "  \\begin{eqnarray*}\n",
    "    \\left(\\begin{array}{cc}\n",
    "      A & B\\\\\n",
    "      C & D\n",
    "    \\end{array}\\right) \\left(\\begin{array}{cc}\n",
    "      I & 0\\\\\n",
    "      - D^{- 1} C & I\n",
    "    \\end{array}\\right) \\left(\\begin{array}{cc}\n",
    "      X^{- 1} & - X^{- 1} B D^{- 1}\\\\\n",
    "      0 & D^{- 1}\n",
    "    \\end{array}\\right) & = & \\left(\\begin{array}{cc}\n",
    "      X & B\\\\\n",
    "      0 & D\n",
    "    \\end{array}\\right) \\left(\\begin{array}{cc}\n",
    "      X^{- 1} & - X^{- 1} B D^{- 1}\\\\\n",
    "      0 & D^{- 1}\n",
    "    \\end{array}\\right)\n",
    "  \\end{eqnarray*}\n",
    "  is equal to the identity. Therefore\n",
    "  \\begin{eqnarray*}\n",
    "    \\left(\\begin{array}{cc}\n",
    "      A & B\\\\\n",
    "      C & D\n",
    "    \\end{array}\\right)^{- 1} & = & \\left(\\begin{array}{cc}\n",
    "      X^{- 1} & - X^{- 1} B D^{- 1}\\\\\n",
    "      - D^{- 1} C X^{- 1} & D^{- 1} + D^{- 1} C X^{- 1} B D^{- 1}\n",
    "    \\end{array}\\right).\n",
    "  \\end{eqnarray*}\n",
    "  Similarly,\n",
    "  \\begin{eqnarray*}\n",
    "    \\left(\\begin{array}{cc}\n",
    "      A & B\\\\\n",
    "      C & D\n",
    "    \\end{array}\\right) \\left(\\begin{array}{cc}\n",
    "      I & - A^{- 1} B\\\\\n",
    "      0 & I\n",
    "    \\end{array}\\right) \\left(\\begin{array}{cc}\n",
    "      A^{- 1} & 0\\\\\n",
    "      - Y^{- 1} C A^{- 1} & Y^{- 1}\n",
    "    \\end{array}\\right) & = & \\left(\\begin{array}{cc}\n",
    "      A & 0\\\\\n",
    "      C & Y\n",
    "    \\end{array}\\right) \\left(\\begin{array}{cc}\n",
    "      A^{- 1} & 0\\\\\n",
    "      - Y^{- 1} C A^{- 1} & Y^{- 1}\n",
    "    \\end{array}\\right)\n",
    "  \\end{eqnarray*}\n",
    "  is also equal to the identity, so we get an alternative formula\n",
    "  \\begin{eqnarray*}\n",
    "    \\left(\\begin{array}{cc}\n",
    "      A & B\\\\\n",
    "      C & D\n",
    "    \\end{array}\\right)^{- 1} & = & \\left(\\begin{array}{cc}\n",
    "      A^{- 1} + A^{- 1} B Y^{- 1} C A^{- 1} & - A^{- 1} B Y^{- 1}\\\\\n",
    "      - Y^{- 1} C A^{- 1} & Y^{- 1}\n",
    "    \\end{array}\\right) .\n",
    "  \\end{eqnarray*}\n"
   ]
  },
  {
   "cell_type": "markdown",
   "metadata": {},
   "source": [
    "## The multivariate normal"
   ]
  },
  {
   "cell_type": "markdown",
   "metadata": {},
   "source": [
    "Let $X \\sim N (\\mu, \\Sigma)$ be a multivariate normally distributed random\n",
    "variable of dimension $n$.\n",
    "\\begin{eqnarray*}\n",
    "  f_n (x ; \\mu, \\Sigma) & = & \\frac{1}{(2 \\pi)^{n / 2} | \\Sigma |^{1 / 2}}\n",
    "  \\exp \\left( - \\frac{1}{2} (x - \\mu)^T \\Sigma^{- 1} (x - \\mu) \\right) .\n",
    "\\end{eqnarray*}\n",
    "Suppose write $x = (x_1, x_2)$ where $x_1$ has dimension $k$ and $x_2$ has\n",
    "dimension $n - k$. We accordingly decompose $\\mu = (\\mu_1, \\mu_2)$ where\n",
    "$\\mu_1$ is the first $k$ components of $\\mu$ and\n",
    "\\begin{eqnarray*}\n",
    "  \\Sigma & = & \\left(\\begin{array}{cc}\n",
    "    \\Sigma_{11} & \\Sigma_{12}\\\\\n",
    "    \\Sigma_{12}^T & \\Sigma_{22}\n",
    "  \\end{array}\\right)\n",
    "\\end{eqnarray*}\n",
    "where $\\Sigma_{11}$ is a square matrix with $k$ rows.\n",
    "\n"
   ]
  },
  {
   "cell_type": "markdown",
   "metadata": {},
   "source": [
    "## The marginal and conditional densities"
   ]
  },
  {
   "cell_type": "markdown",
   "metadata": {},
   "source": [
    "  The marginal and conditional densities are given by\n",
    "  \\begin{eqnarray*}\n",
    "    \\int_{\\mathbb{R}^k} f_n (x ; \\mu, \\Sigma) \\mathrm{d} x_1 & = & f_{n - k} (x_2\n",
    "    ; \\mu_2, \\Sigma_{22}^{- 1})\\\\\n",
    "    f (x_1 \\mid x_2) & = & f (x_1 ; \\mu_1 + \\Sigma_{12}^T \\Sigma_{22} (x_2 -\n",
    "    \\mu_2), \\Sigma_{11} - \\Sigma_{12} \\Sigma_{22}^{- 1} \\Sigma_{12}^T) .\n",
    "  \\end{eqnarray*}\n"
   ]
  },
  {
   "cell_type": "markdown",
   "metadata": {},
   "source": [
    "### Proof"
   ]
  },
  {
   "cell_type": "markdown",
   "metadata": {},
   "source": [
    "  Let $A = \\Sigma^{- 1}$ and write\n",
    "  \\begin{eqnarray*}\n",
    "    A & = & \\left(\\begin{array}{cc}\n",
    "      A_{11} & A_{12}\\\\\n",
    "      A_{12}^T & A_{22}\n",
    "    \\end{array}\\right) .\n",
    "  \\end{eqnarray*}\n",
    "  The key is to block-diagonalise the quadratic form $A$ via the change of\n",
    "  basis matrix\n",
    "  \\begin{eqnarray*}\n",
    "    P & = & \\left(\\begin{array}{cc}\n",
    "      I & 0\\\\\n",
    "      - A^T_{12} A_{11}^{- 1} & I\n",
    "    \\end{array}\\right)\n",
    "  \\end{eqnarray*}\n",
    "  so that\n",
    "  \\begin{eqnarray*}\n",
    "    y^T \\Sigma^{- 1} y & = & (Q y)^T P A P^T (Q y)\n",
    "  \\end{eqnarray*}\n",
    "  where $Q = (P^T)^{- 1}$ and $y = x - \\mu$. Then\n",
    "  \\begin{eqnarray*}\n",
    "    P A P^T & = & \\left(\\begin{array}{cc}\n",
    "      A_{11} & A_{12}\\\\\n",
    "      0 & A_{22} - A^T_{12} A_{11}^{- 1} A_{12}\n",
    "    \\end{array}\\right) \\left(\\begin{array}{cc}\n",
    "      I & - A_{11}^{- 1} A_{12}\\\\\n",
    "      0 & I\n",
    "    \\end{array}\\right)\\\\\n",
    "    & = & \\left(\\begin{array}{cc}\n",
    "      A_{11} & 0\\\\\n",
    "      0 & A_{22} - A^T_{12} A_{11}^{- 1} A_{12}\n",
    "    \\end{array}\\right)\\\\\n",
    "    & = & \\left(\\begin{array}{cc}\n",
    "      A_{11} & 0\\\\\n",
    "      0 & \\Sigma_{22}^{- 1}\n",
    "    \\end{array}\\right)\n",
    "  \\end{eqnarray*}\n",
    "  where the last step follows from the block matrix inversion formula. The new\n",
    "  basis $Q y$ is\n",
    "  \\begin{eqnarray*}\n",
    "    Q y & = & \\left(\\begin{array}{cc}\n",
    "      I & A_{11}^{- 1} A_{12}\\\\\n",
    "      0 & I\n",
    "    \\end{array}\\right) \\left(\\begin{array}{c}\n",
    "      y_1\\\\\n",
    "      y_2\n",
    "    \\end{array}\\right)\\\\\n",
    "    & = & \\left(\\begin{array}{c}\n",
    "      y_1 + A_{11}^{- 1} A_{12} y_2\\\\\n",
    "      y_2\n",
    "    \\end{array}\\right)\\\\\n",
    "    & := & \\left(\\begin{array}{c}\n",
    "      u_1\\\\\n",
    "      u_2\n",
    "    \\end{array}\\right) .\n",
    "  \\end{eqnarray*}\n",
    "  Then\n",
    "  \\begin{eqnarray*}\n",
    "    f_n (x ; \\mu, \\Sigma) & = & \\frac{| \\Sigma_{22} |^{1 / 2}}{(2 \\pi)^{k / 2}\n",
    "    | \\Sigma |^{1 / 2}} \\exp \\left( - \\frac{1}{2} u_1^T A_{11} u_1 \\right)\n",
    "    \\frac{1}{(2 \\pi)^{(n - k) / 2} | \\Sigma_{22} |^{1 / 2}} \\exp \\left( -\n",
    "    \\frac{1}{2} u_2^T \\Sigma_{22}^{- 1} u_2 \\right)\n",
    "  \\end{eqnarray*}\n",
    "\n",
    "  Note that $| \\Sigma |^{- 1} = | A | = | A_{11} |  | \\Sigma_{22} |^{- 1}$,\n",
    "  and so\n",
    "  \\begin{eqnarray*}\n",
    "    \\int f_n (x ; \\mu, \\Sigma) \\mathrm{d} x_1 & = & \\frac{1}{(2 \\pi)^{(n - k) / 2}\n",
    "    | \\Sigma_{22} |^{1 / 2}} \\exp \\left( - \\frac{1}{2} u_2^T \\Sigma_{22}^{- 1}\n",
    "    u_2 \\right)\\\\\n",
    "    & = & f_{n - k} (x_2 ; \\mu_2, \\Sigma_{22}^{- 1}) .\n",
    "  \\end{eqnarray*}\n",
    "  The conditional density $f (x_1 \\mid x_2)$ is given by\n",
    "  \\begin{eqnarray*}\n",
    "    f (x_1 \\mid x_2) & = & \\frac{f_n (x ; \\mu, \\Sigma)}{f_{n - k} (x_2 ;\n",
    "    \\mu_2, \\Sigma_{22}^{- 1})}\\\\\n",
    "    & = & \\frac{| A_{11} |^{1 / 2}}{(2 \\pi)^{k / 2}} \\exp \\left( -\n",
    "    \\frac{1}{2} u_1^T A_{11} u_1 \\right)\\\\\n",
    "    & = & f (x_1 ; \\mu_1 - A_{11}^{- 1} A_{12} (x_2 - \\mu_2), \\Sigma_{11} -\n",
    "    \\Sigma_{12} \\Sigma_{22}^{- 1} \\Sigma_{12}^T)\\\\\n",
    "    & = & f (x_1 ; \\mu_1 + \\Sigma_{12}^T \\Sigma_{22} (x_2 - \\mu_2),\n",
    "    \\Sigma_{11} - \\Sigma_{12} \\Sigma_{22}^{- 1} \\Sigma_{12}^T)\n",
    "  \\end{eqnarray*}\n",
    "  where the expression for $A_{11}$ is obtained from the block matrix\n",
    "  inversion formula. "
   ]
  },
  {
   "cell_type": "code",
   "execution_count": null,
   "metadata": {
    "collapsed": true
   },
   "outputs": [],
   "source": []
  }
 ],
 "metadata": {
  "kernelspec": {
   "display_name": "Python 2",
   "language": "python",
   "name": "python2"
  },
  "language_info": {
   "codemirror_mode": {
    "name": "ipython",
    "version": 2
   },
   "file_extension": ".py",
   "mimetype": "text/x-python",
   "name": "python",
   "nbconvert_exporter": "python",
   "pygments_lexer": "ipython2",
   "version": "2.7.14"
  }
 },
 "nbformat": 4,
 "nbformat_minor": 2
}
